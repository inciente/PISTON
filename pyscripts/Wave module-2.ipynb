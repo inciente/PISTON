{
 "cells": [
  {
   "cell_type": "code",
   "execution_count": 7,
   "metadata": {},
   "outputs": [],
   "source": [
    "import pandas as pd; import numpy as np; import datetime; \n",
    "from abc import ABC, abstractmethod\n",
    "\n",
    "class parameter_space():\n",
    "    # Store probabilistic information about the possible space of parameters that some \n",
    "    # model can accept given a number of constraints\n",
    "    def __init__(self,fixed_dims,free_dims,kernel):\n",
    "        self.ndims = ndims; \n",
    "        self.kernel = kernel; # maybe define these abstractly?\n",
    "    \n",
    "    \n",
    "class wave(ABC):\n",
    "    \n",
    "    \n",
    "    # Define properties abstractly and define their datatype (instead of an __init__)\n",
    "    @property \n",
    "    @abstractmethod\n",
    "    def wave_vector(self): \n",
    "        return self.wave_vector\n",
    "    \n",
    "    @wave_vector.setter\n",
    "    @abstractmethod\n",
    "    def wave_vector(self): \n",
    "        ''' This function will run a test to see whether the proposed new wave vector complies\n",
    "        with the dispersion relationship for each type of wave. This does not need to be abstract;\n",
    "        instead, it needs to call abstract methods so that each type of wave can use its own dispersion\n",
    "        relationships and methods. '''\n",
    "    \n",
    "        pass\n",
    "    \n",
    "    @property\n",
    "    @abstractmethod\n",
    "    def position(self):\n",
    "        return self.position\n",
    "    \n",
    "    @position.setter\n",
    "    @abstractmethod\n",
    "    def position(self):\n",
    "        pass\n",
    "\n",
    "    # learn more about abstract properties.\n",
    "    @abstractmethod\n",
    "    def dispersion_relationship(self):\n",
    "        pass \n",
    "    \n",
    "    def check_type(self):\n",
    "        return dispersion_relationship(numerical=True)\n",
    "        # verify that wave properties comply with dispersion relationship\n",
    "        # this can also be embedded in the setter of wavenumber and frequency.\n"
   ]
  },
  {
   "cell_type": "code",
   "execution_count": 6,
   "metadata": {},
   "outputs": [
    {
     "ename": "TypeError",
     "evalue": "Can't instantiate abstract class internal with abstract methods position, wave_vector",
     "output_type": "error",
     "traceback": [
      "\u001b[0;31m---------------------------------------------------------------------------\u001b[0m",
      "\u001b[0;31mTypeError\u001b[0m                                 Traceback (most recent call last)",
      "\u001b[0;32m<ipython-input-6-d22400b0b03d>\u001b[0m in \u001b[0;36m<module>\u001b[0;34m\u001b[0m\n\u001b[1;32m     21\u001b[0m         \u001b[0mprint\u001b[0m\u001b[0;34m(\u001b[0m\u001b[0;34m'computing dispersion relationship'\u001b[0m\u001b[0;34m)\u001b[0m\u001b[0;34m\u001b[0m\u001b[0m\n\u001b[1;32m     22\u001b[0m \u001b[0;34m\u001b[0m\u001b[0m\n\u001b[0;32m---> 23\u001b[0;31m \u001b[0mniw1\u001b[0m \u001b[0;34m=\u001b[0m \u001b[0minternal\u001b[0m\u001b[0;34m(\u001b[0m\u001b[0;34m)\u001b[0m\u001b[0;34m\u001b[0m\u001b[0m\n\u001b[0m\u001b[1;32m     24\u001b[0m \u001b[0mniw1\u001b[0m\u001b[0;34m.\u001b[0m\u001b[0mdispersion_relationship\u001b[0m\u001b[0;34m(\u001b[0m\u001b[0;34m)\u001b[0m\u001b[0;34m\u001b[0m\u001b[0m\n\u001b[1;32m     25\u001b[0m \u001b[0;34m\u001b[0m\u001b[0m\n",
      "\u001b[0;31mTypeError\u001b[0m: Can't instantiate abstract class internal with abstract methods position, wave_vector"
     ]
    }
   ],
   "source": [
    "class internal(wave):\n",
    "    def __init__(self,position,wave_vector):\n",
    "        self.__position = position;\n",
    "        self.__wave_vector = wave_vector;\n",
    "    \n",
    "    @property\n",
    "    @abstractmethod\n",
    "    def wave_vector(self):\n",
    "        return self.__wave_vector\n",
    "    @wave_vector.setter\n",
    "    def wave_vector(self, value):\n",
    "        old_value = self.wave_vector.copy();\n",
    "        self.__wave_vector = value;\n",
    "        if self.check_type():\n",
    "            pass\n",
    "        else:\n",
    "            self.__wave_vector = old_value;\n",
    "            print('Warning: wave vector does not satisfy dispertionship relationship')\n",
    "    \n",
    "    def dispersion_relationship(self, numerical=False):\n",
    "        print('computing dispersion relationship')\n",
    "        \n",
    "niw1 = internal()\n",
    "niw1.dispersion_relationship()        \n",
    "        "
   ]
  },
  {
   "cell_type": "code",
   "execution_count": null,
   "metadata": {},
   "outputs": [],
   "source": []
  }
 ],
 "metadata": {
  "kernelspec": {
   "display_name": "Python 3",
   "language": "python",
   "name": "python3"
  },
  "language_info": {
   "codemirror_mode": {
    "name": "ipython",
    "version": 3
   },
   "file_extension": ".py",
   "mimetype": "text/x-python",
   "name": "python",
   "nbconvert_exporter": "python",
   "pygments_lexer": "ipython3",
   "version": "3.6.6+"
  }
 },
 "nbformat": 4,
 "nbformat_minor": 2
}
